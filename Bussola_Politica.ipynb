{
 "cells": [
  {
   "cell_type": "code",
   "execution_count": 1,
   "metadata": {},
   "outputs": [
    {
     "name": "stdout",
     "output_type": "stream",
     "text": [
      "  Partito  Sin-Des  Lib-Aut\n",
      "0    Lega      0.8      0.2\n",
      "1      PD      0.3      0.5\n",
      "2     M5S      0.4      0.9\n",
      "3     FdI      0.9      0.7\n",
      "4      FI      0.6      0.3\n",
      "5      IV      0.5      0.1\n",
      "6     LeU      0.1      0.8\n"
     ]
    }
   ],
   "source": [
    "import pandas as pd\n",
    "\n",
    "# Definisco le colonne\n",
    "col = ['Partito','Sin-Des','Lib-Aut']\n",
    "\n",
    "P = ['Lega','PD','M5S','FdI','FI','IV','LeU']\n",
    "# 0 -> Sinistra; 1 -> Destra\n",
    "# 0 -> Liberismo; 1 -> Autoritarismo\n",
    "\n",
    "sd = [0.8, 0.3, 0.4, 0.9, 0.6, 0.5, 0.1]\n",
    "la = [0.2, 0.5, 0.9, 0.7, 0.3, 0.1, 0.8]\n",
    "\n",
    "# Definisco il dataframe\n",
    "df = pd.DataFrame(columns = col)\n",
    "\n",
    "df['Partito'] = P\n",
    "df['Sin-Des'] = sd\n",
    "df['Lib-Aut'] = la\n",
    "\n",
    "print(df)"
   ]
  },
  {
   "cell_type": "code",
   "execution_count": 8,
   "metadata": {},
   "outputs": [
    {
     "data": {
      "image/png": "[encoded data removed]",
      "text/plain": [
       "<Figure size 432x288 with 1 Axes>"
      ]
     },
     "metadata": {
      "needs_background": "light"
     },
     "output_type": "display_data"
    }
   ],
   "source": [
    "ax = df.plot('Sin-Des','Lib-Aut',kind='scatter')\n",
    "\n",
    "for i in range(df.shape[0]):\n",
    "    ax.annotate(df.Partito[i],(sd[i],la[i]))"
   ]
  },
  {
   "cell_type": "code",
   "execution_count": null,
   "metadata": {},
   "outputs": [],
   "source": []
  }
 ],
 "metadata": {
  "kernelspec": {
   "display_name": "Python 3",
   "language": "python",
   "name": "python3"
  },
  "language_info": {
   "codemirror_mode": {
    "name": "ipython",
    "version": 3
   },
   "file_extension": ".py",
   "mimetype": "text/x-python",
   "name": "python",
   "nbconvert_exporter": "python",
   "pygments_lexer": "ipython3",
   "version": "3.7.3"
  }
 },
 "nbformat": 4,
 "nbformat_minor": 4
}
