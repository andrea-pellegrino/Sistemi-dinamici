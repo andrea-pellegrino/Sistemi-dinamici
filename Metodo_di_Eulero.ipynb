{
 "cells": [
  {
   "cell_type": "code",
   "execution_count": 2,
   "metadata": {},
   "outputs": [
    {
     "data": {
      "image/png": "[encoded data removed]",
      "text/plain": [
       "<Figure size 432x288 with 1 Axes>"
      ]
     },
     "metadata": {
      "needs_background": "light"
     },
     "output_type": "display_data"
    }
   ],
   "source": [
    "import numpy as np\n",
    "import matplotlib.pyplot as plt\n",
    "\n",
    "y0 = 0.1\n",
    "t0 = 0\n",
    "dt = 0.001\n",
    "n = 10000\n",
    "tf = t0 + (n*dt)\n",
    "t = np.linspace(t0,tf,n,endpoint=False)\n",
    "\n",
    "# y'(t) = 3y(t) = f(t)\n",
    "\n",
    "f = lambda y: 3*y\n",
    "g = lambda z,time: z*np.exp(3*time)\n",
    "\n",
    "def solve(zero,tempo,fun):\n",
    "    y = np.zeros(len(tempo))\n",
    "    y[0] = zero\n",
    "    for n in range(0,len(tempo)-1):\n",
    "        y[n+1] = y[n] + fun(y[n])*(tempo[n+1]-tempo[n])\n",
    "    return(y)\n",
    "\n",
    "ye = solve(y0,t,f)\n",
    "yr = g(y0,t)\n",
    "\n",
    "plt.figure(1)\n",
    "plt.title('Integrazione Numerica')\n",
    "plt.plot(t,yr,c='r')\n",
    "plt.plot(t,ye,c='b')\n",
    "plt.show()"
   ]
  },
  {
   "cell_type": "code",
   "execution_count": null,
   "metadata": {},
   "outputs": [],
   "source": []
  }
 ],
 "metadata": {
  "kernelspec": {
   "display_name": "Python 3",
   "language": "python",
   "name": "python3"
  },
  "language_info": {
   "codemirror_mode": {
    "name": "ipython",
    "version": 3
   },
   "file_extension": ".py",
   "mimetype": "text/x-python",
   "name": "python",
   "nbconvert_exporter": "python",
   "pygments_lexer": "ipython3",
   "version": "3.7.3"
  }
 },
 "nbformat": 4,
 "nbformat_minor": 4
}
